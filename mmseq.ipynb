{
 "cells": [
  {
   "cell_type": "markdown",
   "metadata": {},
   "source": [
    "# Markov Model Sequence Generator\n",
    "\n",
    "Use python (+ libs) to create random fastq reads that look like real reads."
   ]
  },
  {
   "cell_type": "code",
   "execution_count": 63,
   "metadata": {
    "collapsed": false
   },
   "outputs": [],
   "source": [
    "import numpy as np\n",
    "from scipy.stats import itemfreq\n",
    "from __future__ import division"
   ]
  },
  {
   "cell_type": "markdown",
   "metadata": {},
   "source": [
    "First, define a basic function to generate random sequence based on initial probabilities and transition probabilities:"
   ]
  },
  {
   "cell_type": "code",
   "execution_count": 64,
   "metadata": {
    "collapsed": false
   },
   "outputs": [],
   "source": [
    "def gen_seq(t_mat, initial_probs, seq_len):\n",
    "    \"\"\"Uses a Markov model to generate a DNA sequence\"\"\"\n",
    "    nucleotides = np.array(['A', 'C', 'G', 'T'])\n",
    "    seq = []\n",
    "    first_nt = np.random.choice(nucleotides, 1, replace=True, p=initial_probs)\n",
    "    seq.append(first_nt[0])\n",
    "    for i in xrange(1, seq_len):\n",
    "        prev_nuc = seq[i-1]\n",
    "        prev_pos = np.where(nucleotides==prev_nuc)\n",
    "        probs = np.array(t_mat[prev_pos]).ravel()\n",
    "        nt = np.random.choice(nucleotides, 1,replace=True, p=probs)\n",
    "        seq.append(nt[0])\n",
    "    return seq"
   ]
  },
  {
   "cell_type": "markdown",
   "metadata": {},
   "source": [
    "In order to base our probabilities on real data, we need to read fasta/q files. We can borrow Heng Li's function from https://github.com/lh3/readfq"
   ]
  },
  {
   "cell_type": "code",
   "execution_count": 65,
   "metadata": {
    "collapsed": false
   },
   "outputs": [],
   "source": [
    "# Heng Li's readfq function\n",
    "def readfq(fp): # this is a generator function\n",
    "    last = None # this is a buffer keeping the last unprocessed line\n",
    "    while True: # mimic closure; is it a bad idea?\n",
    "        if not last: # the first record or a record following a fastq\n",
    "            for l in fp: # search for the start of the next record\n",
    "                if l[0] in '>@': # fasta/q header line\n",
    "                    last = l[:-1] # save this line\n",
    "                    break\n",
    "        if not last: break\n",
    "        name, seqs, last = last[1:].partition(\" \")[0], [], None\n",
    "        for l in fp: # read the sequence\n",
    "            if l[0] in '@+>':\n",
    "                last = l[:-1]\n",
    "                break\n",
    "            seqs.append(l[:-1])\n",
    "        if not last or last[0] != '+': # this is a fasta record\n",
    "            yield name, ''.join(seqs), None # yield a fasta record\n",
    "            if not last: break\n",
    "        else: # this is a fastq record\n",
    "            seq, leng, seqs = ''.join(seqs), 0, []\n",
    "            for l in fp: # read the quality\n",
    "                seqs.append(l[:-1])\n",
    "                leng += len(l) - 1\n",
    "                if leng >= len(seq): # have read enough quality\n",
    "                    last = None\n",
    "                    yield name, seq, ''.join(seqs); # yield a fastq record\n",
    "                    break\n",
    "            if last: # reach EOF before reading enough quality\n",
    "                yield name, seq, None # yield a fasta record instead\n",
    "                break"
   ]
  },
  {
   "cell_type": "markdown",
   "metadata": {},
   "source": [
    "Now that we have our functions defined, let's test out the Markov model with arbitrary probabilities."
   ]
  },
  {
   "cell_type": "code",
   "execution_count": 66,
   "metadata": {
    "collapsed": false
   },
   "outputs": [
    {
     "name": "stdout",
     "output_type": "stream",
     "text": [
      "CATCTGATGACTTGTTAGAGATAGATATAACACTGTAGGTAGAGTGTTCCACATCAAATGAGCTCGATTTAGAGCACACACTTGAATTCTACATCTCACTAGAGGTAGACTGCACAGACATCAGAGGAGATTACTTACAGTATATACTGTATTCTCTAGAATTAGATTCTGAAACAGGAACTGTGTTTAGATCTTAGACTAGACACGTGTAGATTGCTAGATACTCACTCTTCTAAATTCTAGGTTTACAGGATAAGACACTTCACCTACTTATACGACAGATCTATGGTTACACTATTCACAAGTTTCTTTTCGAACATAGAATATCATACAAACACAAGGCTCTACACTACTCACATGTCCACTTGTTTACTGATCTTACATAAATACTTAAGTGAAGAACCATAATCACCGAGAGACTGACTACGTTTAACTATGCTGATAATAAATGAGAACTTTTCGACAGACGGAATCTAGTTTAGAGACTCAGTAGCACCATT\n"
     ]
    }
   ],
   "source": [
    "t_mat = np.matrix([[0.2, 0.3, 0.3, 0.2],[0.4,0.1,0.1,0.4],[0.6,0.1,0.1,0.2],[0.3,0.2,0.2,0.3]])\n",
    "initial_probs = np.array([0.2,0.3,0.3,0.2])\n",
    "seq_len=500\n",
    "b = gen_seq(t_mat, initial_probs, seq_len)\n",
    "print ''.join(b)"
   ]
  },
  {
   "cell_type": "markdown",
   "metadata": {},
   "source": [
    "Now we can write some code to grab the probabilities from real data. First we load the file and store it in a numpy array."
   ]
  },
  {
   "cell_type": "code",
   "execution_count": 67,
   "metadata": {
    "collapsed": false
   },
   "outputs": [],
   "source": [
    "# initial prob should come from frequencies of first nucleotide spot in all reads\n",
    "# transition prob should come from data:\n",
    "\n",
    "infile=\"/Users/arundurvasula/Downloads/55_ACAGTG_L001_R1_001.fastq.gz\"\n",
    "subfile=\"/Users/arundurvasula/Downloads/sub1.fastq\"\n",
    "reads = []\n",
    "\n",
    "#for name, seq, qual in readfq(open(subfile)): \n",
    "#    reads.append(list(seq))\n",
    "for name, seq, qual in readfq(open(subfile)): \n",
    "    reads.append(list(seq))    \n",
    "    \n",
    "read_mat = np.array(reads)"
   ]
  },
  {
   "cell_type": "markdown",
   "metadata": {},
   "source": [
    "Then we get the initial probabilities by looking at the frequencies on nucleotides in the first position of the reads."
   ]
  },
  {
   "cell_type": "code",
   "execution_count": 68,
   "metadata": {
    "collapsed": false
   },
   "outputs": [
    {
     "name": "stdout",
     "output_type": "stream",
     "text": [
      "[0.13550000000000001, 0.49990000000000001, 0.28089999999999998, 0.083699999999999997]\n"
     ]
    }
   ],
   "source": [
    "# to get initial_probs\n",
    "first_pos = np.array(read_mat[:,0])\n",
    "unique, counts = np.unique(np.reshape(first_pos, len(first_pos)), return_counts=True)\n",
    "total = sum(counts)\n",
    "initial_probs = [x for x in counts/total]\n",
    "print initial_probs"
   ]
  },
  {
   "cell_type": "markdown",
   "metadata": {},
   "source": [
    "And the transition probabilities can come from the frequency of the rest of the data."
   ]
  },
  {
   "cell_type": "code",
   "execution_count": 69,
   "metadata": {
    "collapsed": false
   },
   "outputs": [
    {
     "name": "stdout",
     "output_type": "stream",
     "text": [
      "[[ 0.32096067  0.19746804  0.22908493  0.25248636]\n",
      " [ 0.3116406   0.26451757  0.13073695  0.29310488]\n",
      " [ 0.28586095  0.23622122  0.25115496  0.22676287]\n",
      " [ 0.19229158  0.26865551  0.23050294  0.30854997]]\n"
     ]
    }
   ],
   "source": [
    "afterA = np.array([0,0,0,0])\n",
    "afterC = np.array([0,0,0,0])\n",
    "afterG = np.array([0,0,0,0])\n",
    "afterT = np.array([0,0,0,0])\n",
    "i = 0\n",
    "oldval=\"\"\n",
    "currval=\"\"\n",
    "for (x,y), nuc in np.ndenumerate(read_mat):\n",
    "    if i > 1:\n",
    "        currval=nuc\n",
    "        if oldval == \"A\" and currval == \"A\":\n",
    "            afterA[0] = afterA[0] + 1\n",
    "        elif oldval == \"A\" and currval == \"C\":\n",
    "            afterA[1] = afterA[1] + 1\n",
    "        elif oldval == \"A\" and currval == \"G\":\n",
    "            afterA[2] = afterA[2] + 1\n",
    "        elif oldval == \"A\" and currval == \"T\":\n",
    "            afterA[3] = afterA[3] + 1\n",
    "        #----\n",
    "        elif oldval == \"C\" and currval == \"A\":\n",
    "            afterC[0] = afterC[0] + 1\n",
    "        elif oldval == \"C\" and currval == \"C\":\n",
    "            afterC[1] = afterC[1] + 1\n",
    "        elif oldval == \"C\" and currval == \"G\":\n",
    "            afterC[2] = afterC[2] + 1\n",
    "        elif oldval == \"C\" and currval == \"T\":\n",
    "            afterC[3] = afterC[3] + 1\n",
    "        #----\n",
    "        elif oldval == \"G\" and currval == \"A\":\n",
    "            afterG[0] = afterG[0] + 1\n",
    "        elif oldval == \"G\" and currval == \"C\":\n",
    "            afterG[1] = afterG[1] + 1\n",
    "        elif oldval == \"G\" and currval == \"G\":\n",
    "            afterG[2] = afterG[2] + 1\n",
    "        elif oldval == \"G\" and currval == \"T\":\n",
    "            afterG[3] = afterG[3] + 1\n",
    "        #----\n",
    "        elif oldval == \"T\" and currval == \"A\":\n",
    "            afterT[0] = afterT[0] + 1\n",
    "        elif oldval == \"T\" and currval == \"C\":\n",
    "            afterT[1] = afterT[1] + 1\n",
    "        elif oldval == \"T\" and currval == \"G\":\n",
    "            afterT[2] = afterT[2] + 1\n",
    "        elif oldval == \"T\" and currval == \"T\":\n",
    "            afterT[3] = afterT[3] + 1\n",
    "        oldval = nuc\n",
    "    i = i+1\n",
    "\n",
    "totalA = sum(afterA)\n",
    "afterA_p = [x for x in afterA/totalA]\n",
    "totalC = sum(afterC)\n",
    "afterC_p = [x for x in afterC/totalC]\n",
    "totalG = sum(afterG)\n",
    "afterG_p = [x for x in afterG/totalG]\n",
    "totalT = sum(afterT)\n",
    "afterT_p = [x for x in afterT/totalT]\n",
    "t_mat = np.matrix([afterA_p,afterC_p,afterG_p,afterT_p])\n",
    "\n",
    "print t_mat"
   ]
  },
  {
   "cell_type": "markdown",
   "metadata": {},
   "source": [
    "Now that we have that, let's see what an example read would look like."
   ]
  },
  {
   "cell_type": "code",
   "execution_count": 76,
   "metadata": {
    "collapsed": false
   },
   "outputs": [
    {
     "name": "stdout",
     "output_type": "stream",
     "text": [
      "CTGGAAGTCATCTTCGTTCGGAGGGGGGTTTGTTTGTAGCCTAGCCACAT\n"
     ]
    }
   ],
   "source": [
    "seq_len=50\n",
    "b = gen_seq(t_mat, initial_probs, seq_len)\n",
    "print ''.join(b)"
   ]
  },
  {
   "cell_type": "markdown",
   "metadata": {},
   "source": [
    "And finally, we can generate a file of simulated reads."
   ]
  },
  {
   "cell_type": "code",
   "execution_count": null,
   "metadata": {
    "collapsed": false
   },
   "outputs": [],
   "source": [
    "a = open(\"/Users/arundurvasula/Downloads/simreads.fasta\", 'w')\n",
    "for i in xrange(0, 500000):\n",
    "    b = gen_seq(t_mat, initial_probs, seq_len)\n",
    "    c = ''.join(b)\n",
    "    a.write(\">\"+str(i)+'\\n')\n",
    "    a.write(c+'\\n')"
   ]
  },
  {
   "cell_type": "markdown",
   "metadata": {},
   "source": [
    "\n"
   ]
  }
 ],
 "metadata": {
  "kernelspec": {
   "display_name": "Python 2",
   "language": "python",
   "name": "python2"
  },
  "language_info": {
   "codemirror_mode": {
    "name": "ipython",
    "version": 2
   },
   "file_extension": ".py",
   "mimetype": "text/x-python",
   "name": "python",
   "nbconvert_exporter": "python",
   "pygments_lexer": "ipython2",
   "version": "2.7.9"
  }
 },
 "nbformat": 4,
 "nbformat_minor": 0
}
